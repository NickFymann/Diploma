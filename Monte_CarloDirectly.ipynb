{
  "nbformat": 4,
  "nbformat_minor": 0,
  "metadata": {
    "colab": {
      "provenance": []
    },
    "kernelspec": {
      "name": "python3",
      "display_name": "Python 3"
    },
    "language_info": {
      "name": "python"
    }
  },
  "cells": [
    {
      "cell_type": "markdown",
      "source": [],
      "metadata": {
        "id": "IXPEsxdlZ00p"
      }
    },
    {
      "cell_type": "markdown",
      "source": [
        "\\\n",
        "Реализуем метод Монте-Карло напрямую, моделируя броуновское движение, количество скачков и их размер.\n",
        "\n",
        "Используем геометрическое броуновское движение, заданное следующей формулой:\n",
        "$$\n",
        "d S_t= \\mu S_t d t+\\sigma S_t d W_t\n",
        "$$\n",
        "\n",
        "Скачки определяются процессом Пуассона:\n",
        "$$\n",
        "d S_t= J S_t  d N_t\n",
        "$$\n",
        "\n",
        "где:\n",
        "- $J$ - размер скачка, определяется распределением:\n",
        "$$\n",
        "J_+ \\sim exp\\left(\\frac{1}{\\Lambda_+}\\right), \\quad\n",
        "J_- \\sim exp\\left(\\frac{1}{\\Lambda_-}\\right)\n",
        "$$\n",
        "Скачки выбираются со следующими вероятностями:\n",
        "$$\n",
        "P\\left(J = J_+\\right) = p, \\quad\n",
        "P\\left(J = J_-\\right) = 1 - p\n",
        "$$\n",
        "\n",
        "- $dN_t$ - это количество скачков, которые происходят в течение небольшого временного интервала $dt$, описываемое пуассоновским процессом с интенсивностью $\\lambda=\\lambda_{+}+\\lambda_{-}$.\n",
        "\n",
        "Формула, объединяющая броуновское движение и скачки:\n",
        "\n",
        "$$\n",
        "d S_t=\\mu S_t d t+\\sigma S_t d W_t + J S_t d N_t\n",
        "$$\n",
        "\n",
        "Или же:\n",
        "\n",
        "$$\n",
        "S_t=S_{t-1} \\cdot e^{ \\left(\\mu d t+\\sigma d W_t+J d N_t\\right)},\n",
        "$$\n",
        "где параметр смещения может быть вычислен по следующей формуле:\n",
        "\n",
        "$$\n",
        "\\mu = r - \\frac{1}{2} \\sigma^2 - \\frac{p \\cdot \\lambda}{\\Lambda_+ - 1} + \\frac{(1 - p) \\cdot \\lambda}{\\Lambda_- + 1}\n",
        "$$\n"
      ],
      "metadata": {
        "id": "ndqRSTawodx4"
      }
    },
    {
      "cell_type": "code",
      "source": [
        "def compute_mu(r, sigma, intensity, lambda_p, lambda_m, p):\n",
        "    kappa_plus = (p * intensity) / (lambda_p - 1)\n",
        "    kappa_minus = -1 * (1 - p) * intensity / (lambda_m + 1)\n",
        "    kappa = kappa_plus + kappa_minus\n",
        "    mu = r - 0.5 * sigma ** 2 - kappa\n",
        "    return mu"
      ],
      "metadata": {
        "id": "C1BvvV8_kff1"
      },
      "execution_count": 17,
      "outputs": []
    },
    {
      "cell_type": "code",
      "source": [
        "def simulate_jump_diffusion(S0, r, sigma, T, intensity, lambda_p, lambda_m, p, M, N):\n",
        "    dt = T / N\n",
        "    mu = compute_mu(r, sigma, intensity, lambda_p, lambda_m, p)\n",
        "    S = np.full(M, S0, dtype=float)\n",
        "\n",
        "    for _ in range(N):\n",
        "        dW = np.random.normal(0, np.sqrt(dt), M)\n",
        "        N_jumps = np.random.poisson((lambda_p + lambda_m) * dt, M)\n",
        "\n",
        "        jump_directions = np.random.rand(M) < p\n",
        "        pos_jumps = np.random.exponential(1 / lambda_p, M)\n",
        "        neg_jumps = -np.random.exponential(1 / lambda_m, M)\n",
        "        jumps = np.where(jump_directions, pos_jumps, neg_jumps) * N_jumps\n",
        "\n",
        "        S *= np.exp(mu * dt + sigma * dW + jumps)\n",
        "\n",
        "    return S"
      ],
      "metadata": {
        "id": "dKG_NlY7obyQ"
      },
      "execution_count": 21,
      "outputs": []
    },
    {
      "cell_type": "markdown",
      "source": [
        "\\\n",
        "Cтоимость колл-опциона будем рассчитывать по следующей формуле:\n",
        "\n",
        "$$C=e^{-r T} \\cdot \\mathbb{E}\\left[\\max \\left(S_T-K, 0\\right)\\right],$$\n",
        "\n",
        "где\n",
        "$$\\mathbb{E}\\left[\\max \\left(S_T-K, 0\\right)\\right] = e^{-rT}\\frac{1}{M} \\sum_{i=1}^{M} max(S_T-K, 0)$$"
      ],
      "metadata": {
        "id": "Qlyi0cTXpM6E"
      }
    },
    {
      "cell_type": "markdown",
      "source": [
        "Ошибку метода можно вычислить по следующей формуле:\n",
        "$$\n",
        "\\delta=t(1-\\gamma, n-1) \\sqrt{\\frac{S^2}{n}},\n",
        "$$\n",
        "где\n",
        "- n - количество симуляций,\n",
        "- $\n",
        "S^2 = \\frac{1}{M-1} \\sum_{i=1}^M\\left(\\text { payoff }_i-{\\overline{\\text { payoff }})^2}\\right.\n",
        "$\n",
        "- $t(1-\\gamma, n - 1)$ - критическое значения t-распределения Стьюдента, причём $t(1-\\gamma, n - 1)\\approx t(\\gamma)$ - для больших n"
      ],
      "metadata": {
        "id": "ojRgSh-d9AN7"
      }
    },
    {
      "cell_type": "code",
      "source": [
        "\n",
        "def price_option_with_error(S, K, r, T, confidence=0.95):\n",
        "    discounted_payoffs = np.exp(-r * T) * np.maximum(S - K, 0)\n",
        "    mean = np.mean(discounted_payoffs)\n",
        "    std = np.std(discounted_payoffs, ddof=1)\n",
        "    t_value = t.ppf(confidence, len(S) - 1)\n",
        "    error = t_value * std / np.sqrt(len(S))\n",
        "    return mean, error"
      ],
      "metadata": {
        "id": "JBVAcIs42GM6"
      },
      "execution_count": 19,
      "outputs": []
    },
    {
      "cell_type": "markdown",
      "source": [
        "\\\n",
        "Пусть имеется набор параметров $c_+ = 1$, $c_- = 1$, $\\lambda_+ = 10$, $\\lambda_- = -15$.\n",
        "\n",
        "Тогда, $\\Lambda_+ = -\\lambda_- = 15, \\Lambda_- = \\lambda_+ = 10$\n",
        "\n",
        "Также $c_+ = (1-p)\\lambda,$ и $ c_- = pλ$\n",
        "\n",
        "Тогда $\\frac{c_+}{(1-p)} = \\frac{c_-}{p} \\Longrightarrow p = 0.5$"
      ],
      "metadata": {
        "id": "GOVKMHTfh_CU"
      }
    },
    {
      "cell_type": "code",
      "source": [
        "import numpy as np\n",
        "from scipy.stats import t\n",
        "\n",
        "S0, K, r, q, T, sigma = 100, 80, 0.05, 0, 10/252, 0.3\n",
        "intensity, lambda_p, lambda_m, p = 12, 15, 10, 0.5\n",
        "M, N = 10000, 256\n",
        "\n",
        "S_T = simulate_jump_diffusion(S0, r, sigma, T, intensity, lambda_p, lambda_m, p, M, N)\n",
        "price, error = price_option_with_error(S_T, K, r, T)\n",
        "\n",
        "print(f\"Цена опциона: {price:.4f}\")\n",
        "print(f\"Абсолютная ошибка: {error:.4f}\")\n",
        "print(f\"Относительная ошибка: {error/price:.4f}\")\n"
      ],
      "metadata": {
        "colab": {
          "base_uri": "https://localhost:8080/"
        },
        "id": "7IWGVuJN81iQ",
        "outputId": "545800d5-11f3-415e-fe8b-aa64037a09ad"
      },
      "execution_count": 20,
      "outputs": [
        {
          "output_type": "stream",
          "name": "stdout",
          "text": [
            "0.12188311688311687\n",
            "Цена опциона: 20.2113\n",
            "Абсолютная ошибка: 0.1938\n",
            "Относительная ошибка: 0.0096\n"
          ]
        }
      ]
    }
  ]
}