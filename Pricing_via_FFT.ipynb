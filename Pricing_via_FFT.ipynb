{
  "nbformat": 4,
  "nbformat_minor": 0,
  "metadata": {
    "colab": {
      "provenance": []
    },
    "kernelspec": {
      "name": "python3",
      "display_name": "Python 3"
    },
    "language_info": {
      "name": "python"
    }
  },
  "cells": [
    {
      "cell_type": "markdown",
      "source": [
        "Формула для характеристической функции модели Коу:\n",
        "$$\n",
        "\\phi(\\xi)=e^{-t\\psi(\\xi)},\n",
        "$$\n",
        "где\n",
        "$$\n",
        "\\psi(\\xi)=\\frac{\\sigma^2}{2} \\xi^2-i \\mu \\xi+\\frac{i c_{+} \\xi}{\\lambda_{+}+i \\xi}+\\frac{i c_{-} \\xi}{\\lambda_{-}+i \\xi}\n",
        "$$\n",
        "\n",
        "$$\n",
        "\\mu = r - \\frac{1}{2} \\sigma^2 - \\frac{p \\cdot \\lambda}{\\Lambda_+ - 1} + \\frac{(1 - p) \\cdot \\lambda}{\\Lambda_- + 1}\n",
        "$$\n"
      ],
      "metadata": {
        "id": "xE006k7wlZn4"
      }
    },
    {
      "cell_type": "code",
      "source": [
        "def compute_mu(r, sigma, intensity, lambda_p, lambda_m, p):\n",
        "    kappa_plus = (p * intensity) / (lambda_p - 1)\n",
        "    kappa_minus = -1 * (1 - p) * intensity / (lambda_m + 1)\n",
        "    kappa = kappa_plus + kappa_minus\n",
        "    mu = r - 0.5 * sigma ** 2 - kappa\n",
        "    return mu"
      ],
      "metadata": {
        "id": "eWjAh1fZlsu_"
      },
      "execution_count": 16,
      "outputs": []
    },
    {
      "cell_type": "code",
      "source": [
        "########## Вспомогательные функции ##########\n",
        "def kou_chexp(xi, z, sigma, cp, cm, lm, lp, mu):\n",
        "    xi = xi + z * 1j\n",
        "    sig2 = 0.5 * sigma ** 2\n",
        "    temp1 = sig2 * xi ** 2 + (-mu * xi * 1j)\n",
        "    temp2 = (cp * xi * 1j) / (xi * 1j + lp)\n",
        "    temp3 = (cm * xi * 1j) / (xi * 1j + lm)\n",
        "    return temp1 + temp2 + temp3\n",
        "\n",
        "def kou_chf(xi, z, t, sigma, cp, cm, lm, lp, mu):\n",
        "    temp1 = kou_chexp(xi, z, sigma, cp, cm, lm, lp, mu)\n",
        "    return cmath.exp(-t * temp1)"
      ],
      "metadata": {
        "id": "QgSbheq7fIqz"
      },
      "execution_count": 17,
      "outputs": []
    },
    {
      "cell_type": "markdown",
      "source": [
        "Для вычисления цены опциона необходимо воспользоваться следующей формулой:\n",
        "$$\n",
        "F\\left(x_j, T\\right)=\\frac{1}{2 \\pi} \\int_{-\\infty+i z}^{+\\infty+i z} e^{i x_j \\xi} e^{ -T \\psi(\\xi)} \\hat{g}(\\xi) d \\xi,\n",
        "$$ предварительно сделав замену $\\xi=\\xi+i z$ и вычислив $\\hat{g}(\\xi) = \\hat{g}(\\xi + iz) = \\frac{-K}{(\\xi_k + iz)(\\xi_k + i(1+z))}$\n",
        "\n",
        "\n",
        "Для IFFT будет использоваться вектор $v_F$, элементами которого являются выражения вида\n",
        "\n",
        "$$\n",
        "\\phi_{X_T}(\\xi+iz)\\cdot(-1)^k \\cdot \\hat{g}(\\xi + iz),\\quad k = 0,...,M-1\n",
        "$$\n",
        "\n",
        "Тогда получаем следующую формулу:\n",
        "$$\n",
        "F(x_j, T) = -Ke^{-x_jz}e^{-rT}\\cdot(-1)^j\\frac{1}{d} iDFT[v_F](j), \\quad j = 0,...,M-1\n",
        "$$\n"
      ],
      "metadata": {
        "id": "XnrpXU6dfLp7"
      }
    },
    {
      "cell_type": "code",
      "source": [
        "import numpy as np\n",
        "import cmath\n",
        "import matplotlib.pyplot as plt\n",
        "########## Основной алгоритм ##########\n",
        "\n",
        "# Параметры алгоритма\n",
        "m = 10\n",
        "d = 0.01\n",
        "\n",
        "# Параметры\n",
        "cp, cm, intensity, lp, lm = 1, 1, 12, 10, -15\n",
        "sigma, p, r = 0.3, 0.5, 0.05\n",
        "mu = compute_mu(r, sigma, intensity, -lm, lp, p)\n",
        "T = 10/252\n",
        "\n",
        "S = 100  # Начальная цена\n",
        "K = 80  # Страйк\n",
        "M = int(2 ** m)\n",
        "\n",
        "xi = -np.pi / d  # текущее значение xi\n",
        "dxi = -2 * xi / M  # шаг в пространстве xi\n",
        "z = -2  # сдвиг для вычисления call-опциона\n",
        "\n",
        "# Создание массивов для Фурье-преобразования\n",
        "v_F = np.zeros(M, dtype=complex)\n",
        "v_x = np.zeros(M, dtype=complex)\n",
        "\n",
        "# Интеграл обратного преобразования Фурье\n",
        "sign_out = 1\n",
        "for k in range(M):\n",
        "    phi = kou_chf(xi, z, T, sigma, cp, cm, lm, lp, mu)\n",
        "    F = sign_out * phi\n",
        "    v_F[k] = F / ((xi + 1j * z) * (xi + 1j * (z + 1)))\n",
        "\n",
        "    xi += dxi\n",
        "    sign_out = -sign_out\n",
        "\n",
        "#IFFT\n",
        "v_x = np.fft.ifft(v_F)\n",
        "x_target = np.log(S/K)\n",
        "j = int(M/2 + x_target/d)\n",
        "x = -M*d/2 + j*d\n",
        "price = -v_x[j].real * K * np.exp(-x * z) * np.exp(-r * T) / d\n",
        "print(price)"
      ],
      "metadata": {
        "colab": {
          "base_uri": "https://localhost:8080/"
        },
        "id": "e5Zm-72EfL-O",
        "outputId": "1382a395-2bf7-4be9-bbb2-edcb8ec4f68e"
      },
      "execution_count": 22,
      "outputs": [
        {
          "output_type": "stream",
          "name": "stdout",
          "text": [
            "20.27148687440624\n"
          ]
        }
      ]
    }
  ]
}